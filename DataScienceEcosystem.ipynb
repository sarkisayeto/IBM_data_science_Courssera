{
 "cells": [
  {
   "cell_type": "markdown",
   "id": "f40d3bb2-caed-46b6-94a9-c5251e2c440a",
   "metadata": {
    "editable": true,
    "slideshow": {
     "slide_type": ""
    },
    "tags": []
   },
   "source": [
    "<h1>Outils et écosystème de la science des données</h1>"
   ]
  },
  {
   "cell_type": "markdown",
   "id": "ff9bed8e-408a-4001-abf2-2236ed9d6673",
   "metadata": {},
   "source": [
    "Dans ce notebook, les outils et l'écosystème de la science des données sont résumés."
   ]
  },
  {
   "cell_type": "markdown",
   "id": "ba75fe72-9de0-41c0-9586-c95c04a3d7da",
   "metadata": {},
   "source": [
    "**Objectifs :**\n",
    "<ul>\n",
    "    <li>Lister les langages populaires pour la science des données</li>\n",
    "    <li>lister les bibliothèques courament utilise</li>\n",
    "    <li>Conversion de 200 minutes en heure en divisant par 60</li>\n",
    "    <li>Calcule arithmetique de (3*4)+5 = 17</li>\n",
    "</ul>"
   ]
  },
  {
   "cell_type": "markdown",
   "id": "abcd64fe-0276-4e14-bc99-978d7f61aa9e",
   "metadata": {},
   "source": [
    "Certains des langages populaires que les scientifiques des données utilisent sont :\n",
    "<ol>\n",
    "    <li>Python</li>\n",
    "    <li>R</li>\n",
    "    <li>scala</li>\n",
    "</ol>"
   ]
  },
  {
   "cell_type": "markdown",
   "id": "c2adae7f-2c33-4ebb-9a1d-ca1ab6c7d18a",
   "metadata": {},
   "source": [
    "Certaines des bibliothèques couramment utilisées par les scientifiques des données incluent :\n",
    "<ol>\n",
    "    <li>Pandas</li>\n",
    "    <li>TensorFlow </li>\n",
    "    <li>Numpy</li>\n",
    "    <li>Matplotlib </li>\n",
    "</ol>"
   ]
  },
  {
   "cell_type": "markdown",
   "id": "e87d16eb-0a91-4197-aa47-bf37d0d10b07",
   "metadata": {},
   "source": [
    "| Outils de la science des données. |\n",
    "| -------------| \n",
    "| VS Code (Visual Studio Code) |\n",
    "| RStudio |\n",
    "| Bloc- notes Jupyter|"
   ]
  },
  {
   "cell_type": "markdown",
   "id": "6e09cf92-9c91-403e-adb3-78f4ba3e27ea",
   "metadata": {},
   "source": [
    "<h3>Voici quelques exemples d'évaluation d'expressions arithmétiques en Python</h3>"
   ]
  },
  {
   "cell_type": "code",
   "execution_count": 8,
   "id": "4cc4a6e3-f274-4c77-abd1-01b80429f7f0",
   "metadata": {},
   "outputs": [
    {
     "data": {
      "text/plain": [
       "17"
      ]
     },
     "execution_count": 8,
     "metadata": {},
     "output_type": "execute_result"
    }
   ],
   "source": [
    "'''Ceci est une simple expression arithmétique \n",
    "pour multiplier puis additionner des entiers '''\n",
    "\n",
    "(3*4)+5"
   ]
  },
  {
   "cell_type": "code",
   "execution_count": 10,
   "id": "5b97fb4c-e05d-4a26-8978-58d5b82f1d83",
   "metadata": {},
   "outputs": [
    {
     "name": "stdout",
     "output_type": "stream",
     "text": [
      "200 minutes correspond à 3.3333333333333335 heures \n"
     ]
    }
   ],
   "source": [
    "'''Cela convertira 200 minutes en heures en divisant par 60 ''' \n",
    "minute = 200\n",
    "\n",
    "heure = minute/60\n",
    "\n",
    "print(f\"{minute} minutes correspond à {heure} heures \")"
   ]
  },
  {
   "cell_type": "markdown",
   "id": "66f7cc85-5bcf-411a-9fb8-0faa6a8a9ae6",
   "metadata": {},
   "source": [
    "<h2>Auteur</h2>\n",
    "Ayeto Sarkis Humbert EKPINDA"
   ]
  },
  {
   "cell_type": "code",
   "execution_count": null,
   "id": "3cbd8e9c-fa91-4360-8c89-69f9283db7fe",
   "metadata": {},
   "outputs": [],
   "source": []
  }
 ],
 "metadata": {
  "kernelspec": {
   "display_name": "Python 3 (ipykernel)",
   "language": "python",
   "name": "python3"
  },
  "language_info": {
   "codemirror_mode": {
    "name": "ipython",
    "version": 3
   },
   "file_extension": ".py",
   "mimetype": "text/x-python",
   "name": "python",
   "nbconvert_exporter": "python",
   "pygments_lexer": "ipython3",
   "version": "3.12.8"
  }
 },
 "nbformat": 4,
 "nbformat_minor": 5
}
